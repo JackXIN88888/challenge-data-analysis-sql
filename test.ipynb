{
 "cells": [
  {
   "cell_type": "code",
   "execution_count": 3,
   "metadata": {},
   "outputs": [],
   "source": [
    "import sqlite3\n",
    "import os\n",
    "import pandas as pd\n",
    "import streamlit as st\n",
    "import plost\n",
    "\n",
    "# creating file path\n",
    "dbfile = \"bce.db\"\n",
    "# Create a SQL connection to our SQLite database\n",
    "con = sqlite3.connect(dbfile)\n",
    "\n",
    "# creating cursor\n",
    "cur = con.cursor()\n",
    "\n",
    "\n",
    "status = \"\"\"\n",
    "    SELECT\n",
    "        Status, (COUNT(*)/18632.92) AS quantity_of_companies\n",
    "    FROM\n",
    "        enterprise\n",
    "\tGROUP BY status\n",
    "\"\"\"\n",
    "\n",
    "JuridicalForm = \"\"\"\n",
    "\n",
    "    SELECT\n",
    "        JuridicalForm, (COUNT(*)/18632.92) AS quantity_of_companies\n",
    "    FROM\n",
    "        enterprise\n",
    "\tGROUP BY JuridicalForm\n",
    "\tORDER BY quantity_of_companies DESC\n",
    "\n",
    "\"\"\"\n",
    "\n",
    "TypeOfCompany = \"\"\"\n",
    "\n",
    "    SELECT\n",
    "        TypeOfEnterprise, (COUNT(*)/18632.92) AS quantity_of_companies\n",
    "    FROM\n",
    "        enterprise\n",
    "\tGROUP BY TypeOfEnterprise\n",
    "\tORDER BY quantity_of_companies DESC\n",
    "\n",
    "\"\"\"\n",
    "\n",
    "Age_of_company = \"\"\"\n",
    "\n",
    "SELECT *\n",
    "\n",
    "FROM activity AS a1\n",
    "INNER JOIN enterprise AS e1\n",
    "ON a1.EntityNumber = e1.EnterpriseNumber\n",
    "\n",
    "\"\"\"\n",
    "\n",
    "sector_average_age = \"\"\"\n",
    "\n",
    "    SELECT\n",
    "        c1.Description, a1.NaceCode, AVG(2022 - strftime('%Y',e1.StartDate)) AS \"Age\", COUNT(EntityNumber) AS Number_of_Activities\n",
    "    FROM activity AS a1\n",
    "\n",
    "    LEFT JOIN enterprise AS e1     ON  a1.EntityNumber = e1.EnterpriseNumber\n",
    "    LEFT JOIN code AS c1 ON a1.NaceCode = c1.Code\n",
    "    WHERE c1.Language LIKE \"FR\"\n",
    "    GROUP BY NaceCode\n",
    "    ORDER BY Age DESC\n",
    "\n",
    "\"\"\"\n",
    "\n",
    "status_df = pd.read_sql_query( status   , con)\n",
    "JuridicalForm_df = pd.read_sql_query( JuridicalForm   , con)\n",
    "TypeOfCompany_df = pd.read_sql_query( TypeOfCompany   , con)\n",
    "sector_average_age_df = pd.read_sql_query( sector_average_age   , con)\n",
    "\n",
    "status_df.to_csv(r'status_df.csv', header=True, encoding='utf-8', escapechar='|')\n",
    "JuridicalForm_df.to_csv(r'JuridicalForm_df.csv', header=True, encoding='utf-8', escapechar='|')\n",
    "TypeOfCompany_df.to_csv(r'TypeOfCompany_df.csv', header=True, encoding='utf-8', escapechar='|')\n",
    "sector_average_age_df.to_csv(r'sector_average_age_df.csv', header=True, encoding='utf-8', escapechar='|')\n",
    "\n",
    "\n",
    "\n"
   ]
  },
  {
   "cell_type": "markdown",
   "metadata": {},
   "source": [
    "TESTS"
   ]
  },
  {
   "cell_type": "code",
   "execution_count": 9,
   "metadata": {},
   "outputs": [
    {
     "name": "stdout",
     "output_type": "stream",
     "text": [
      "         0              1                      2\n",
      "0      NaN  JuridicalForm  quantity_of_companies\n",
      "1      0.0            NaN      40.98353881195219\n",
      "2      1.0            015     19.133286677557788\n",
      "3      2.0            610      9.156213840879477\n",
      "4      3.0            017      7.533709155623488\n",
      "..     ...            ...                    ...\n",
      "104  103.0            383  5.366845346837748e-05\n",
      "105  104.0            387  5.366845346837748e-05\n",
      "106  105.0            608  5.366845346837748e-05\n",
      "107  106.0            651  5.366845346837748e-05\n",
      "108  107.0            724  5.366845346837748e-05\n",
      "\n",
      "[109 rows x 3 columns]\n"
     ]
    }
   ],
   "source": [
    "import pandas as pd\n",
    "JuridicalForm_df=pd.read_csv(\"JuridicalForm_df.csv\",header=None)\n",
    "print(JuridicalForm_df)"
   ]
  },
  {
   "cell_type": "markdown",
   "metadata": {},
   "source": [
    "add JuridicalForm name to code"
   ]
  },
  {
   "cell_type": "code",
   "execution_count": 29,
   "metadata": {},
   "outputs": [
    {
     "name": "stdout",
     "output_type": "stream",
     "text": [
      "999\n",
      "Forme légale inconnue (ONSS)\n",
      "0    JuridicalForm\n",
      "1              NaN\n",
      "2              015\n",
      "3              610\n",
      "4              017\n",
      "Name: 1, dtype: object\n",
      "     0                                        1                      2  \\\n",
      "0  NaN                            JuridicalForm  quantity_of_companies   \n",
      "1  0.0                                      NaN      40.98353881195219   \n",
      "2  1.0  Société privée à responsabilité limitée     19.133286677557788   \n",
      "3  2.0         Société à responsabilité limitée      9.156213840879477   \n",
      "4  3.0            Association sans but lucratif      7.533709155623488   \n",
      "\n",
      "            code  \n",
      "0  JuridicalForm  \n",
      "1            NaN  \n",
      "2            015  \n",
      "3            610  \n",
      "4            017  \n"
     ]
    }
   ],
   "source": [
    "import pandas as pd\n",
    "JuridicalForm_dic= \"\"\"\n",
    "\n",
    "    SELECT\n",
    "        Category, Code, Description\n",
    "    FROM\n",
    "        code\n",
    "    WHERE Language LIKE \"FR\" AND Category LIKE \"JuridicalForm%\"\n",
    "\tGROUP BY Code\n",
    "\tORDER BY Code DESC\n",
    "\n",
    "\"\"\"\n",
    "\n",
    "import sqlite3\n",
    "import os\n",
    "import pandas as pd\n",
    "import streamlit as st\n",
    "import plost\n",
    "\n",
    "# creating file path\n",
    "dbfile = \"bce.db\"\n",
    "# Create a SQL connection to our SQLite database\n",
    "con = sqlite3.connect(dbfile)\n",
    "\n",
    "# creating cursor\n",
    "cur = con.cursor()\n",
    "JuridicalForm_dic_df = pd.read_sql_query(JuridicalForm_dic, con)\n",
    "JuridicalForm_dic_df = JuridicalForm_dic_df.iloc[:,[1,2]]\n",
    "\n",
    "#print(JuridicalForm_dic_df.head())\n",
    "JD_dic ={}\n",
    "JD_dic =JuridicalForm_dic_df.to_dict()\n",
    "JF_dic ={}\n",
    "\n",
    "print(JD_dic['Code'][0])\n",
    "\n",
    "for i in range(len(JD_dic['Code'])):\n",
    "    JF_dic[JD_dic['Code'][i]] = JD_dic['Description'][i]\n",
    "\n",
    "print(JF_dic['999'])\n",
    "\n",
    "df1 = JuridicalForm_df.replace(JF_dic)\n",
    "\n",
    "code = JuridicalForm_df.iloc[:,1]\n",
    "print(code.head())\n",
    "code_list = code.values.tolist()\n",
    "#print(code_list)\n",
    "#df1=df.concat(code)\n",
    "\n",
    "\n",
    "df1['code']=code_list\n",
    "\n",
    "print(df1.head())\n",
    "\n",
    "#df.to_csv(r'JuridicalForm_df_clean.csv',encoding='utf-8', escapechar='|')\n",
    "df1.to_csv(r'JuridicalForm_df_clean_withcode.csv',encoding='utf-8', escapechar='|')"
   ]
  },
  {
   "cell_type": "markdown",
   "metadata": {},
   "source": [
    "casino search"
   ]
  },
  {
   "cell_type": "code",
   "execution_count": 23,
   "metadata": {},
   "outputs": [
    {
     "name": "stdout",
     "output_type": "stream",
     "text": [
      "       EntityNumber NaceCode  casinonumber\n",
      "0      0823.528.812  9200001             1\n",
      "1     2.000.361.813  9200001             1\n",
      "2     2.001.318.549  9200001             1\n",
      "3     2.001.919.850  9200001             1\n",
      "4     2.003.754.734  9200001             1\n",
      "...             ...      ...           ...\n",
      "3280  2.331.654.425  9200001             1\n",
      "3281  2.331.680.654  9200001             1\n",
      "3282  2.331.688.077  9200001             1\n",
      "3283  2.331.688.176  9200001             1\n",
      "3284  2.331.691.641  9200001             1\n",
      "\n",
      "[3285 rows x 3 columns]\n"
     ]
    }
   ],
   "source": [
    "CasinoSearch= \"\"\"\n",
    "\n",
    "    SELECT\n",
    "        Denomination, EntityNumber\n",
    "    FROM\n",
    "        denomination\n",
    "    WHERE Denomination LIKE \"%casino%\"\n",
    "\n",
    "\"\"\"\n",
    "CasinoNaceSearch= \"\"\"\n",
    "\n",
    "    SELECT\n",
    "        EntityNumber, NaceCode, COUNT(*) AS casinonumber\n",
    "    FROM\n",
    "        activity\n",
    "    WHERE NaceCode LIKE \"9200001\"\n",
    "    GROUP BY EntityNumber\n",
    "\n",
    "\"\"\"\n",
    "\n",
    "\n",
    "import sqlite3\n",
    "import os\n",
    "import pandas as pd\n",
    "import streamlit as st\n",
    "import plost\n",
    "\n",
    "# creating file path\n",
    "dbfile = \"bce.db\"\n",
    "# Create a SQL connection to our SQLite database\n",
    "con = sqlite3.connect(dbfile)\n",
    "\n",
    "# creating cursor\n",
    "cur = con.cursor()\n",
    "CasinoNaceSearch_df = pd.read_sql_query(CasinoNaceSearch, con)\n",
    "\n",
    "print(CasinoNaceSearch_df)"
   ]
  },
  {
   "cell_type": "markdown",
   "metadata": {},
   "source": [
    "language search"
   ]
  },
  {
   "cell_type": "code",
   "execution_count": 2,
   "metadata": {},
   "outputs": [
    {
     "name": "stdout",
     "output_type": "stream",
     "text": [
      "  Language  PercentageDenominationLanguage\n",
      "0        4                        0.874313\n",
      "1        3                        0.740142\n",
      "2        2                       73.523796\n",
      "3        1                       47.118219\n",
      "4        0                       45.158032\n",
      "<class 'str'>\n",
      "  Language  PercentageDenominationLanguage\n",
      "0  English                        0.874313\n",
      "1  Germany                        0.740142\n",
      "2    Dutch                       73.523796\n",
      "3   French                       47.118219\n",
      "4  unknown                       45.158032\n"
     ]
    }
   ],
   "source": [
    "import pandas as pd\n",
    "LanguageSearch= \"\"\"\n",
    "\n",
    "    SELECT\n",
    "        Language, (COUNT(*)/18632.92) AS PercentageDenominationLanguage\n",
    "    FROM\n",
    "        denomination\n",
    "\n",
    "\tGROUP BY Language\n",
    "\tORDER BY Language DESC\n",
    "\n",
    "\"\"\"\n",
    "\n",
    "import sqlite3\n",
    "import os\n",
    "import pandas as pd\n",
    "import streamlit as st\n",
    "import plost\n",
    "\n",
    "# creating file path\n",
    "dbfile = \"bce.db\"\n",
    "# Create a SQL connection to our SQLite database\n",
    "con = sqlite3.connect(dbfile)\n",
    "\n",
    "# creating cursor\n",
    "cur = con.cursor()\n",
    "LanguageSearch_df = pd.read_sql_query(LanguageSearch, con)\n",
    "\n",
    "print(LanguageSearch_df.head())\n",
    "print(type(LanguageSearch_df['Language'][1]))\n",
    "\n",
    "Language_dic = {'0': \"unknown\", '1': \"French\",'2':\"Dutch\",'3': \"Germany\", '4':\"English\"}\n",
    "\n",
    "dfl1 = LanguageSearch_df.replace(Language_dic)\n",
    "\n",
    "print(dfl1)\n",
    "dfl1.to_csv(r'LanguageSearch_df.csv', header=True, encoding='utf-8', escapechar='|')"
   ]
  },
  {
   "cell_type": "markdown",
   "metadata": {},
   "source": [
    "add new column"
   ]
  },
  {
   "cell_type": "code",
   "execution_count": 36,
   "metadata": {},
   "outputs": [
    {
     "name": "stdout",
     "output_type": "stream",
     "text": [
      "               1    0                      2           code\n",
      "0  JuridicalForm  NaN  quantity_of_companies  JuridicalForm\n",
      "1            NaN  0.0      40.98353881195219            NaN\n"
     ]
    },
    {
     "ename": "AttributeError",
     "evalue": "'Series' object has no attribute 'JuridicalForm'",
     "output_type": "error",
     "traceback": [
      "\u001b[0;31m---------------------------------------------------------------------------\u001b[0m",
      "\u001b[0;31mAttributeError\u001b[0m                            Traceback (most recent call last)",
      "Cell \u001b[0;32mIn [36], line 8\u001b[0m\n\u001b[1;32m      4\u001b[0m pd2 \u001b[39m=\u001b[39m pd\u001b[39m.\u001b[39mmerge(code,df1)\n\u001b[1;32m      5\u001b[0m \u001b[39mprint\u001b[39m(pd2\u001b[39m.\u001b[39mhead())\n\u001b[0;32m----> 8\u001b[0m JuridicalForm_df[\u001b[39m'\u001b[39m\u001b[39mJuridicalFormName\u001b[39m\u001b[39m'\u001b[39m]\u001b[39m=\u001b[39mJuridicalForm_df\u001b[39m.\u001b[39;49mapply (\u001b[39mlambda\u001b[39;49;00m row: JF_dic[row\u001b[39m.\u001b[39;49mJuridicalForm] , axis\u001b[39m=\u001b[39;49m\u001b[39m1\u001b[39;49m)\n",
      "File \u001b[0;32m~/challenge-data-analysis-sql/env/lib/python3.10/site-packages/pandas/core/frame.py:9555\u001b[0m, in \u001b[0;36mDataFrame.apply\u001b[0;34m(self, func, axis, raw, result_type, args, **kwargs)\u001b[0m\n\u001b[1;32m   9544\u001b[0m \u001b[39mfrom\u001b[39;00m \u001b[39mpandas\u001b[39;00m\u001b[39m.\u001b[39;00m\u001b[39mcore\u001b[39;00m\u001b[39m.\u001b[39;00m\u001b[39mapply\u001b[39;00m \u001b[39mimport\u001b[39;00m frame_apply\n\u001b[1;32m   9546\u001b[0m op \u001b[39m=\u001b[39m frame_apply(\n\u001b[1;32m   9547\u001b[0m     \u001b[39mself\u001b[39m,\n\u001b[1;32m   9548\u001b[0m     func\u001b[39m=\u001b[39mfunc,\n\u001b[0;32m   (...)\u001b[0m\n\u001b[1;32m   9553\u001b[0m     kwargs\u001b[39m=\u001b[39mkwargs,\n\u001b[1;32m   9554\u001b[0m )\n\u001b[0;32m-> 9555\u001b[0m \u001b[39mreturn\u001b[39;00m op\u001b[39m.\u001b[39;49mapply()\u001b[39m.\u001b[39m__finalize__(\u001b[39mself\u001b[39m, method\u001b[39m=\u001b[39m\u001b[39m\"\u001b[39m\u001b[39mapply\u001b[39m\u001b[39m\"\u001b[39m)\n",
      "File \u001b[0;32m~/challenge-data-analysis-sql/env/lib/python3.10/site-packages/pandas/core/apply.py:746\u001b[0m, in \u001b[0;36mFrameApply.apply\u001b[0;34m(self)\u001b[0m\n\u001b[1;32m    743\u001b[0m \u001b[39melif\u001b[39;00m \u001b[39mself\u001b[39m\u001b[39m.\u001b[39mraw:\n\u001b[1;32m    744\u001b[0m     \u001b[39mreturn\u001b[39;00m \u001b[39mself\u001b[39m\u001b[39m.\u001b[39mapply_raw()\n\u001b[0;32m--> 746\u001b[0m \u001b[39mreturn\u001b[39;00m \u001b[39mself\u001b[39;49m\u001b[39m.\u001b[39;49mapply_standard()\n",
      "File \u001b[0;32m~/challenge-data-analysis-sql/env/lib/python3.10/site-packages/pandas/core/apply.py:873\u001b[0m, in \u001b[0;36mFrameApply.apply_standard\u001b[0;34m(self)\u001b[0m\n\u001b[1;32m    872\u001b[0m \u001b[39mdef\u001b[39;00m \u001b[39mapply_standard\u001b[39m(\u001b[39mself\u001b[39m):\n\u001b[0;32m--> 873\u001b[0m     results, res_index \u001b[39m=\u001b[39m \u001b[39mself\u001b[39;49m\u001b[39m.\u001b[39;49mapply_series_generator()\n\u001b[1;32m    875\u001b[0m     \u001b[39m# wrap results\u001b[39;00m\n\u001b[1;32m    876\u001b[0m     \u001b[39mreturn\u001b[39;00m \u001b[39mself\u001b[39m\u001b[39m.\u001b[39mwrap_results(results, res_index)\n",
      "File \u001b[0;32m~/challenge-data-analysis-sql/env/lib/python3.10/site-packages/pandas/core/apply.py:889\u001b[0m, in \u001b[0;36mFrameApply.apply_series_generator\u001b[0;34m(self)\u001b[0m\n\u001b[1;32m    886\u001b[0m \u001b[39mwith\u001b[39;00m option_context(\u001b[39m\"\u001b[39m\u001b[39mmode.chained_assignment\u001b[39m\u001b[39m\"\u001b[39m, \u001b[39mNone\u001b[39;00m):\n\u001b[1;32m    887\u001b[0m     \u001b[39mfor\u001b[39;00m i, v \u001b[39min\u001b[39;00m \u001b[39menumerate\u001b[39m(series_gen):\n\u001b[1;32m    888\u001b[0m         \u001b[39m# ignore SettingWithCopy here in case the user mutates\u001b[39;00m\n\u001b[0;32m--> 889\u001b[0m         results[i] \u001b[39m=\u001b[39m \u001b[39mself\u001b[39;49m\u001b[39m.\u001b[39;49mf(v)\n\u001b[1;32m    890\u001b[0m         \u001b[39mif\u001b[39;00m \u001b[39misinstance\u001b[39m(results[i], ABCSeries):\n\u001b[1;32m    891\u001b[0m             \u001b[39m# If we have a view on v, we need to make a copy because\u001b[39;00m\n\u001b[1;32m    892\u001b[0m             \u001b[39m#  series_generator will swap out the underlying data\u001b[39;00m\n\u001b[1;32m    893\u001b[0m             results[i] \u001b[39m=\u001b[39m results[i]\u001b[39m.\u001b[39mcopy(deep\u001b[39m=\u001b[39m\u001b[39mFalse\u001b[39;00m)\n",
      "Cell \u001b[0;32mIn [36], line 8\u001b[0m, in \u001b[0;36m<lambda>\u001b[0;34m(row)\u001b[0m\n\u001b[1;32m      4\u001b[0m pd2 \u001b[39m=\u001b[39m pd\u001b[39m.\u001b[39mmerge(code,df1)\n\u001b[1;32m      5\u001b[0m \u001b[39mprint\u001b[39m(pd2\u001b[39m.\u001b[39mhead())\n\u001b[0;32m----> 8\u001b[0m JuridicalForm_df[\u001b[39m'\u001b[39m\u001b[39mJuridicalFormName\u001b[39m\u001b[39m'\u001b[39m]\u001b[39m=\u001b[39mJuridicalForm_df\u001b[39m.\u001b[39mapply (\u001b[39mlambda\u001b[39;00m row: JF_dic[row\u001b[39m.\u001b[39;49mJuridicalForm] , axis\u001b[39m=\u001b[39m\u001b[39m1\u001b[39m)\n",
      "File \u001b[0;32m~/challenge-data-analysis-sql/env/lib/python3.10/site-packages/pandas/core/generic.py:5902\u001b[0m, in \u001b[0;36mNDFrame.__getattr__\u001b[0;34m(self, name)\u001b[0m\n\u001b[1;32m   5895\u001b[0m \u001b[39mif\u001b[39;00m (\n\u001b[1;32m   5896\u001b[0m     name \u001b[39mnot\u001b[39;00m \u001b[39min\u001b[39;00m \u001b[39mself\u001b[39m\u001b[39m.\u001b[39m_internal_names_set\n\u001b[1;32m   5897\u001b[0m     \u001b[39mand\u001b[39;00m name \u001b[39mnot\u001b[39;00m \u001b[39min\u001b[39;00m \u001b[39mself\u001b[39m\u001b[39m.\u001b[39m_metadata\n\u001b[1;32m   5898\u001b[0m     \u001b[39mand\u001b[39;00m name \u001b[39mnot\u001b[39;00m \u001b[39min\u001b[39;00m \u001b[39mself\u001b[39m\u001b[39m.\u001b[39m_accessors\n\u001b[1;32m   5899\u001b[0m     \u001b[39mand\u001b[39;00m \u001b[39mself\u001b[39m\u001b[39m.\u001b[39m_info_axis\u001b[39m.\u001b[39m_can_hold_identifiers_and_holds_name(name)\n\u001b[1;32m   5900\u001b[0m ):\n\u001b[1;32m   5901\u001b[0m     \u001b[39mreturn\u001b[39;00m \u001b[39mself\u001b[39m[name]\n\u001b[0;32m-> 5902\u001b[0m \u001b[39mreturn\u001b[39;00m \u001b[39mobject\u001b[39;49m\u001b[39m.\u001b[39;49m\u001b[39m__getattribute__\u001b[39;49m(\u001b[39mself\u001b[39;49m, name)\n",
      "\u001b[0;31mAttributeError\u001b[0m: 'Series' object has no attribute 'JuridicalForm'"
     ]
    }
   ],
   "source": [
    "import pandas as pd\n",
    "\n",
    "#pd.concat(code)\n",
    "pd2 = pd.merge(code,df1)\n",
    "print(pd2.head())\n",
    "\n",
    "\n",
    "JuridicalForm_df['JuridicalFormName']=JuridicalForm_df.apply (lambda row: JF_dic[row.JuridicalForm] , axis=1)"
   ]
  },
  {
   "cell_type": "code",
   "execution_count": 10,
   "metadata": {},
   "outputs": [
    {
     "name": "stderr",
     "output_type": "stream",
     "text": [
      "2022-10-27 08:22:32.872 \n",
      "  \u001b[33m\u001b[1mWarning:\u001b[0m to view this Streamlit app on a browser, run it with the following\n",
      "  command:\n",
      "\n",
      "    streamlit run /home/jack/challenge-data-analysis-sql/env/lib/python3.10/site-packages/ipykernel_launcher.py [ARGUMENTS]\n"
     ]
    },
    {
     "ename": "NameError",
     "evalue": "name 'JuridicalForm' is not defined",
     "output_type": "error",
     "traceback": [
      "\u001b[0;31m---------------------------------------------------------------------------\u001b[0m",
      "\u001b[0;31mNameError\u001b[0m                                 Traceback (most recent call last)",
      "Cell \u001b[0;32mIn [10], line 30\u001b[0m\n\u001b[1;32m     20\u001b[0m b4\u001b[39m.\u001b[39mmetric(\u001b[39m\"\u001b[39m\u001b[39mHumidity\u001b[39m\u001b[39m\"\u001b[39m, \u001b[39m\"\u001b[39m\u001b[39m86\u001b[39m\u001b[39m%\u001b[39m\u001b[39m\"\u001b[39m, \u001b[39m\"\u001b[39m\u001b[39m4\u001b[39m\u001b[39m%\u001b[39m\u001b[39m\"\u001b[39m)\n\u001b[1;32m     22\u001b[0m \u001b[39m# def form():\u001b[39;00m\n\u001b[1;32m     23\u001b[0m \u001b[39m#     st.write(\"This is a form\")\u001b[39;00m\n\u001b[1;32m     24\u001b[0m \u001b[39m#     with st.form(key=\"info form\"):\u001b[39;00m\n\u001b[0;32m   (...)\u001b[0m\n\u001b[1;32m     27\u001b[0m \n\u001b[1;32m     28\u001b[0m \u001b[39m# form()\u001b[39;00m\n\u001b[0;32m---> 30\u001b[0m cur\u001b[39m.\u001b[39mexecute(JuridicalForm)\n\u001b[1;32m     31\u001b[0m \u001b[39mprint\u001b[39m(cur\u001b[39m.\u001b[39mfetchall())\n\u001b[1;32m     32\u001b[0m con\u001b[39m.\u001b[39mclose()\n",
      "\u001b[0;31mNameError\u001b[0m: name 'JuridicalForm' is not defined"
     ]
    }
   ],
   "source": [
    "st.set_page_config(layout=\"wide\")\n",
    "with open('style.css') as f:\n",
    "    st.markdown(f'<style>{f.read()}</style>', unsafe_allow_html=True)\n",
    "\n",
    "# a1, a2= st.columns(3,7)\n",
    "# a1.metric(\"Wind\", \"9 mph\", \"-8%\")\n",
    "\n",
    "\n",
    "# with a2:\n",
    "#     st.markdown('### Bar chart')\n",
    "#     plost.donut_chart(\n",
    "#         data=JuridicalForm_df,##\n",
    "#         theta='quantity_of_companies',\n",
    "#         color='JuridicalForm')\n",
    "\n",
    "b1, b2, b3, b4 = st.columns(4)\n",
    "b1.metric(\"Temperature\", \"70 °F\", \"1.2 °F\")\n",
    "b2.metric(\"Wind\", \"9 mph\", \"-8%\")\n",
    "b3.metric(\"Humidity\", \"86%\", \"4%\")\n",
    "b4.metric(\"Humidity\", \"86%\", \"4%\")\n",
    "\n",
    "# def form():\n",
    "#     st.write(\"This is a form\")\n",
    "#     with st.form(key=\"info form\"):\n",
    "#         name = st.text_input(\"enter name :\")\n",
    "\n",
    "\n",
    "# form()\n",
    "\n",
    "cur.execute(JuridicalForm)\n",
    "print(cur.fetchall())\n",
    "con.close()"
   ]
  },
  {
   "cell_type": "markdown",
   "metadata": {},
   "source": []
  },
  {
   "cell_type": "code",
   "execution_count": 29,
   "metadata": {},
   "outputs": [
    {
     "name": "stdout",
     "output_type": "stream",
     "text": [
      "  JuridicalForm  quantity_of_companies\n",
      "0          None              40.983539\n",
      "1           015              19.133287\n",
      "2           610               9.156214\n",
      "3           017               7.533709\n",
      "4           014               5.315055\n"
     ]
    }
   ],
   "source": [
    "# print(TypeOfCompany_df.head())\n",
    "# df = TypeOfCompany_df.iloc[:,1]\n",
    "# value1 = df.values.tolist()\n",
    "\n",
    "# df = TypeOfCompany_df.iloc[:,1]\n",
    "# bar1 = df.values.tolist()\n",
    "print(JuridicalForm_df.head())\n",
    "\n",
    "For i \n"
   ]
  },
  {
   "cell_type": "code",
   "execution_count": 28,
   "metadata": {},
   "outputs": [],
   "source": [
    "a1, a2, a3= st.columns(3)\n",
    "a1.metric(\"Wind\", \"9 mph\", \"-8%\")\n",
    "with a2:\n",
    "    st.markdown('### Bar chart')\n",
    "    plost.bar_chart(\n",
    "        data=TypeOfCompany_df,##\n",
    "        bar='quantity_of_companies',\n",
    "        value='TypeOfEnterprise')\n",
    "\n",
    "with a3:\n",
    "    st.markdown('### Bar chart')\n",
    "    plost.donut_chart(\n",
    "        data=JuridicalForm_df,##\n",
    "        theta='quantity_of_companies',\n",
    "        color='JuridicalForm')\n"
   ]
  }
 ],
 "metadata": {
  "kernelspec": {
   "display_name": "Python 3.10.6 ('env': venv)",
   "language": "python",
   "name": "python3"
  },
  "language_info": {
   "codemirror_mode": {
    "name": "ipython",
    "version": 3
   },
   "file_extension": ".py",
   "mimetype": "text/x-python",
   "name": "python",
   "nbconvert_exporter": "python",
   "pygments_lexer": "ipython3",
   "version": "3.10.6"
  },
  "orig_nbformat": 4,
  "vscode": {
   "interpreter": {
    "hash": "e68481f754ff5e4192926e175b7f0bbd98e5c8c95444279c11c5e8591f1abd96"
   }
  }
 },
 "nbformat": 4,
 "nbformat_minor": 2
}
